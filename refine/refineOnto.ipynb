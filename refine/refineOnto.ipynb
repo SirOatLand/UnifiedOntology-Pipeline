{
 "cells": [
  {
   "cell_type": "code",
   "execution_count": null,
   "metadata": {},
   "outputs": [],
   "source": [
    "import os\n",
    "if os.path.isdir('../../UnifiedOntology-Pipeline'): os.chdir('../')"
   ]
  },
  {
   "cell_type": "code",
   "execution_count": null,
   "metadata": {},
   "outputs": [],
   "source": [
    "import import_ipynb\n",
    "from tool.extractClass import *\n",
    "from pipeline.connectIndividuals import getNamespace, clear_serialize"
   ]
  },
  {
   "cell_type": "code",
   "execution_count": null,
   "metadata": {},
   "outputs": [],
   "source": [
    "loginHuggingFace()"
   ]
  },
  {
   "cell_type": "code",
   "execution_count": null,
   "metadata": {},
   "outputs": [],
   "source": [
    "path_to_onto = \"./pipeline/3_mergeOutput/UnifiedOntology.ttl\"\n",
    "df = getOntoClasses(path_to_onto)"
   ]
  },
  {
   "cell_type": "code",
   "execution_count": null,
   "metadata": {},
   "outputs": [],
   "source": [
    "name_tokenizer = \"bert-base-uncased\"\n",
    "name_model = \"OhWayTee/bert-taxonomy\"\n",
    "name_pipeline = \"text-classification\""
   ]
  },
  {
   "cell_type": "code",
   "execution_count": null,
   "metadata": {},
   "outputs": [],
   "source": [
    "classifier = getClassifier(name_tokenizer, name_model, name_pipeline)"
   ]
  },
  {
   "cell_type": "code",
   "execution_count": null,
   "metadata": {},
   "outputs": [],
   "source": [
<<<<<<< HEAD
=======
    "print(classifier(\"Malware [SEP] Company\"))"
   ]
  },
  {
   "cell_type": "code",
   "execution_count": null,
   "metadata": {},
   "outputs": [],
   "source": [
>>>>>>> 9ad31fa (add filter for pred. result before mapping to ontology)
    "df_pred = getPredictions(classifier, df)"
   ]
  },
  {
   "cell_type": "code",
   "execution_count": null,
   "metadata": {},
   "outputs": [],
   "source": [
    "df_top = sortPredictions(df_pred)"
   ]
  },
  {
   "cell_type": "code",
   "execution_count": null,
   "metadata": {},
   "outputs": [],
   "source": [
<<<<<<< HEAD
    "df_superclass = df_top[df_top['label'] == \"LABEL_1\"] # classB is SUBCLASS of classA\n",
    "df_subclass = df_top[df_top['label'] == \"LABEL_2\"] # classA is SUBCLASS of classB"
=======
    "df_top.shape"
   ]
  },
  {
   "cell_type": "code",
   "execution_count": null,
   "metadata": {},
   "outputs": [],
   "source": [
    "confidence_threshold = 0.9"
>>>>>>> 9ad31fa (add filter for pred. result before mapping to ontology)
   ]
  },
  {
   "cell_type": "code",
   "execution_count": null,
   "metadata": {},
   "outputs": [],
   "source": [
<<<<<<< HEAD
=======
    "df_superclass = df_top[(df_top['label'] == \"LABEL_1\") & (df_top['score'] >= confidence_threshold)] # classB is SUBCLASS of classA\n",
    "df_subclass = df_top[(df_top['label'] == \"LABEL_2\") & (df_top['score'] >= confidence_threshold)] # classA is SUBCLASS of classB"
   ]
  },
  {
   "cell_type": "code",
   "execution_count": null,
   "metadata": {},
   "outputs": [],
   "source": [
    "[df_superclass.shape, df_subclass.shape]"
   ]
  },
  {
   "cell_type": "code",
   "execution_count": null,
   "metadata": {},
   "outputs": [],
   "source": [
    "df_superclass_filtered = df_superclass.sort_values('score', ascending=False).drop_duplicates('classB') # remove duplicate subclasses\n",
    "df_subclass_filtered = df_subclass.sort_values('score', ascending=False).drop_duplicates('classA')\n",
    "[df_superclass_filtered.shape, df_subclass_filtered.shape]"
   ]
  },
  {
   "cell_type": "code",
   "execution_count": null,
   "metadata": {},
   "outputs": [],
   "source": [
>>>>>>> 9ad31fa (add filter for pred. result before mapping to ontology)
    "g = Graph()\n",
    "g.parse(path_to_onto, format='turtle')\n",
    "prefix, uri = getNamespace(g)\n",
    "print(prefix, uri)"
   ]
  },
  {
   "cell_type": "code",
   "execution_count": null,
   "metadata": {},
   "outputs": [],
   "source": [
    "for idx, row in df_superclass_filtered.iterrows():\n",
    "    query = f\"\"\"\n",
    "    PREFIX rdfs: <http://www.w3.org/2000/01/rdf-schema#>\n",
    "    PREFIX {prefix}: <{uri}>\n",
    "    INSERT{{\n",
    "        ?subclass rdfs:subClassOf ?superclass .\n",
    "    }}\n",
    "    WHERE {{\n",
    "        ?subclass rdfs:label \"{row['classB']}\" .\n",
    "        ?superclass rdfs:label \"{row['classA']}\" .\n",
    "    }}\n",
    "    \"\"\"\n",
    "    g.update(query)"
   ]
  },
  {
   "cell_type": "code",
   "execution_count": null,
   "metadata": {},
   "outputs": [],
   "source": [
    "for idx, row in df_subclass_filtered.iterrows():\n",
    "    query = f\"\"\"\n",
    "    PREFIX rdfs: <http://www.w3.org/2000/01/rdf-schema#>\n",
    "    PREFIX {prefix}: <{uri}>\n",
    "    INSERT{{\n",
    "        ?subclass rdfs:subClassOf ?superclass .\n",
    "    }}\n",
    "    WHERE {{\n",
    "        ?subclass rdfs:label \"{row['classA']}\" .\n",
    "        ?superclass rdfs:label \"{row['classB']}\" .\n",
    "    }}\n",
    "    \"\"\"\n",
    "    g.update(query)"
   ]
  },
  {
   "cell_type": "code",
   "execution_count": null,
   "metadata": {},
   "outputs": [],
   "source": [
    "output_path = \"./refine/4_refineOutput/RefinedUnifiedOntology2.ttl\"\n",
    "\n",
    "clear_serialize(g, output_path)"
   ]
  },
  {
   "cell_type": "code",
   "execution_count": null,
   "metadata": {},
   "outputs": [],
   "source": []
  }
 ],
 "metadata": {
  "kernelspec": {
   "display_name": "pipe",
   "language": "python",
   "name": "python3"
  },
  "language_info": {
   "codemirror_mode": {
    "name": "ipython",
    "version": 3
   },
   "file_extension": ".py",
   "mimetype": "text/x-python",
   "name": "python",
   "nbconvert_exporter": "python",
   "pygments_lexer": "ipython3",
<<<<<<< HEAD
   "version": "undefined.undefined.undefined"
=======
   "version": "3.12.1"
>>>>>>> 9ad31fa (add filter for pred. result before mapping to ontology)
  }
 },
 "nbformat": 4,
 "nbformat_minor": 2
}
