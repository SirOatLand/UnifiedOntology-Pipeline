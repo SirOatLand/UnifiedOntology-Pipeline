{
 "cells": [
  {
   "cell_type": "code",
   "execution_count": 1,
   "metadata": {},
   "outputs": [],
   "source": [
    "import os\n",
    "if os.path.isdir('../../UnifiedOntology-Pipeline'): os.chdir('../')"
   ]
  },
  {
   "cell_type": "code",
   "execution_count": 2,
   "metadata": {},
   "outputs": [
    {
     "name": "stderr",
     "output_type": "stream",
     "text": [
      "/home/s2416084/.local/bin/anaconda3/envs/bert/lib/python3.12/site-packages/tqdm/auto.py:21: TqdmWarning: IProgress not found. Please update jupyter and ipywidgets. See https://ipywidgets.readthedocs.io/en/stable/user_install.html\n",
      "  from .autonotebook import tqdm as notebook_tqdm\n"
     ]
    }
   ],
   "source": [
    "import import_ipynb\n",
    "from tool.extractClass import *\n",
    "from pipeline.connectIndividuals import getNamespace"
   ]
  },
  {
   "cell_type": "code",
   "execution_count": 3,
   "metadata": {},
   "outputs": [
    {
     "name": "stdout",
     "output_type": "stream",
     "text": [
      "The token has not been saved to the git credentials helper. Pass `add_to_git_credential=True` in this function directly or `--add-to-git-credential` if using via `huggingface-cli` if you want to set the git credential as well.\n",
      "Token is valid (permission: fineGrained).\n",
      "The token `colab` has been saved to /home/s2416084/.cache/huggingface/stored_tokens\n",
      "Your token has been saved to /home/s2416084/.cache/huggingface/token\n",
      "Login successful.\n",
      "The current active token is: `colab`\n"
     ]
    }
   ],
   "source": [
    "loginHuggingFace()"
   ]
  },
  {
   "cell_type": "code",
   "execution_count": 4,
   "metadata": {},
   "outputs": [],
   "source": [
    "path_to_onto = \"./pipeline/3_mergeOutput/UnifiedOntology.ttl\"\n",
    "df = getOntoClasses(path_to_onto)"
   ]
  },
  {
   "cell_type": "code",
   "execution_count": 5,
   "metadata": {},
   "outputs": [],
   "source": [
    "name_tokenizer = \"bert-base-uncased\"\n",
    "name_model = \"OhWayTee/bert-taxonomy\"\n",
    "name_pipeline = \"text-classification\""
   ]
  },
  {
   "cell_type": "code",
   "execution_count": 6,
   "metadata": {},
   "outputs": [
    {
     "name": "stderr",
     "output_type": "stream",
     "text": [
      "Device set to use cpu\n"
     ]
    }
   ],
   "source": [
    "classifier = getClassifier(name_tokenizer, name_model, name_pipeline)"
   ]
  },
  {
   "cell_type": "code",
   "execution_count": 7,
   "metadata": {},
   "outputs": [],
   "source": [
    "df = df[:10]"
   ]
  },
  {
   "cell_type": "code",
   "execution_count": null,
   "metadata": {},
   "outputs": [],
   "source": [
    "df_pred = getPredictions(classifier, df)"
   ]
  },
  {
   "cell_type": "code",
   "execution_count": null,
   "metadata": {},
   "outputs": [],
   "source": [
    "df_top = sortPredictions(df_pred)"
   ]
  },
  {
   "cell_type": "code",
   "execution_count": null,
   "metadata": {},
   "outputs": [
    {
     "data": {
      "text/html": [
       "<div>\n",
       "<style scoped>\n",
       "    .dataframe tbody tr th:only-of-type {\n",
       "        vertical-align: middle;\n",
       "    }\n",
       "\n",
       "    .dataframe tbody tr th {\n",
       "        vertical-align: top;\n",
       "    }\n",
       "\n",
       "    .dataframe thead th {\n",
       "        text-align: right;\n",
       "    }\n",
       "</style>\n",
       "<table border=\"1\" class=\"dataframe\">\n",
       "  <thead>\n",
       "    <tr style=\"text-align: right;\">\n",
       "      <th></th>\n",
       "      <th>label</th>\n",
       "      <th>score</th>\n",
       "      <th>classA</th>\n",
       "      <th>classB</th>\n",
       "    </tr>\n",
       "  </thead>\n",
       "  <tbody>\n",
       "    <tr>\n",
       "      <th>5</th>\n",
       "      <td>LABEL_2</td>\n",
       "      <td>0.999381</td>\n",
       "      <td>API Key</td>\n",
       "      <td>Breach Technique</td>\n",
       "    </tr>\n",
       "    <tr>\n",
       "      <th>14</th>\n",
       "      <td>LABEL_2</td>\n",
       "      <td>0.999510</td>\n",
       "      <td>Arrest</td>\n",
       "      <td>Breach Technique</td>\n",
       "    </tr>\n",
       "    <tr>\n",
       "      <th>13</th>\n",
       "      <td>LABEL_1</td>\n",
       "      <td>0.997739</td>\n",
       "      <td>Arrest</td>\n",
       "      <td>Backdoor</td>\n",
       "    </tr>\n",
       "    <tr>\n",
       "      <th>23</th>\n",
       "      <td>LABEL_2</td>\n",
       "      <td>0.997857</td>\n",
       "      <td>Attack Campaign</td>\n",
       "      <td>Breach Technique</td>\n",
       "    </tr>\n",
       "    <tr>\n",
       "      <th>19</th>\n",
       "      <td>LABEL_1</td>\n",
       "      <td>0.998930</td>\n",
       "      <td>Attack Campaign</td>\n",
       "      <td>Arrest</td>\n",
       "    </tr>\n",
       "    <tr>\n",
       "      <th>32</th>\n",
       "      <td>LABEL_2</td>\n",
       "      <td>0.999291</td>\n",
       "      <td>Attack Vector</td>\n",
       "      <td>Breach Technique</td>\n",
       "    </tr>\n",
       "    <tr>\n",
       "      <th>28</th>\n",
       "      <td>LABEL_1</td>\n",
       "      <td>0.970574</td>\n",
       "      <td>Attack Vector</td>\n",
       "      <td>Arrest</td>\n",
       "    </tr>\n",
       "    <tr>\n",
       "      <th>42</th>\n",
       "      <td>LABEL_1</td>\n",
       "      <td>0.999374</td>\n",
       "      <td>Authentication Method</td>\n",
       "      <td>Breached Password</td>\n",
       "    </tr>\n",
       "    <tr>\n",
       "      <th>41</th>\n",
       "      <td>LABEL_2</td>\n",
       "      <td>0.999030</td>\n",
       "      <td>Authentication Method</td>\n",
       "      <td>Breach Technique</td>\n",
       "    </tr>\n",
       "    <tr>\n",
       "      <th>50</th>\n",
       "      <td>LABEL_2</td>\n",
       "      <td>0.999405</td>\n",
       "      <td>Backdoor</td>\n",
       "      <td>Breach Technique</td>\n",
       "    </tr>\n",
       "    <tr>\n",
       "      <th>58</th>\n",
       "      <td>LABEL_2</td>\n",
       "      <td>0.626587</td>\n",
       "      <td>Breach Technique</td>\n",
       "      <td>Authentication Method</td>\n",
       "    </tr>\n",
       "    <tr>\n",
       "      <th>60</th>\n",
       "      <td>LABEL_1</td>\n",
       "      <td>0.999346</td>\n",
       "      <td>Breach Technique</td>\n",
       "      <td>Breached Password</td>\n",
       "    </tr>\n",
       "    <tr>\n",
       "      <th>68</th>\n",
       "      <td>LABEL_1</td>\n",
       "      <td>0.906902</td>\n",
       "      <td>Breached Password</td>\n",
       "      <td>Backdoor</td>\n",
       "    </tr>\n",
       "    <tr>\n",
       "      <th>69</th>\n",
       "      <td>LABEL_2</td>\n",
       "      <td>0.999546</td>\n",
       "      <td>Breached Password</td>\n",
       "      <td>Breach Technique</td>\n",
       "    </tr>\n",
       "    <tr>\n",
       "      <th>74</th>\n",
       "      <td>LABEL_2</td>\n",
       "      <td>0.999477</td>\n",
       "      <td>Cloud Service</td>\n",
       "      <td>Attack Campaign</td>\n",
       "    </tr>\n",
       "    <tr>\n",
       "      <th>89</th>\n",
       "      <td>LABEL_1</td>\n",
       "      <td>0.998389</td>\n",
       "      <td>Company</td>\n",
       "      <td>Cloud Service</td>\n",
       "    </tr>\n",
       "    <tr>\n",
       "      <th>83</th>\n",
       "      <td>LABEL_2</td>\n",
       "      <td>0.999525</td>\n",
       "      <td>Company</td>\n",
       "      <td>Attack Campaign</td>\n",
       "    </tr>\n",
       "  </tbody>\n",
       "</table>\n",
       "</div>"
      ],
      "text/plain": [
       "      label     score                 classA                 classB\n",
       "5   LABEL_2  0.999381                API Key       Breach Technique\n",
       "14  LABEL_2  0.999510                 Arrest       Breach Technique\n",
       "13  LABEL_1  0.997739                 Arrest               Backdoor\n",
       "23  LABEL_2  0.997857        Attack Campaign       Breach Technique\n",
       "19  LABEL_1  0.998930        Attack Campaign                 Arrest\n",
       "32  LABEL_2  0.999291          Attack Vector       Breach Technique\n",
       "28  LABEL_1  0.970574          Attack Vector                 Arrest\n",
       "42  LABEL_1  0.999374  Authentication Method      Breached Password\n",
       "41  LABEL_2  0.999030  Authentication Method       Breach Technique\n",
       "50  LABEL_2  0.999405               Backdoor       Breach Technique\n",
       "58  LABEL_2  0.626587       Breach Technique  Authentication Method\n",
       "60  LABEL_1  0.999346       Breach Technique      Breached Password\n",
       "68  LABEL_1  0.906902      Breached Password               Backdoor\n",
       "69  LABEL_2  0.999546      Breached Password       Breach Technique\n",
       "74  LABEL_2  0.999477          Cloud Service        Attack Campaign\n",
       "89  LABEL_1  0.998389                Company          Cloud Service\n",
       "83  LABEL_2  0.999525                Company        Attack Campaign"
      ]
     },
     "execution_count": 12,
     "metadata": {},
     "output_type": "execute_result"
    }
   ],
   "source": [
    "df_top"
   ]
  },
  {
   "cell_type": "code",
   "execution_count": null,
   "metadata": {},
   "outputs": [],
   "source": [
    "df_superclass = df_top[df_top['label'] == \"LABEL_1\"]\n",
    "df_subclass = df_top[df_top['label'] == \"LABEL_2\"]"
   ]
  },
  {
   "cell_type": "code",
   "execution_count": null,
   "metadata": {},
   "outputs": [
    {
     "data": {
      "text/plain": [
       "<Graph identifier=N5389925e730843dbb0c6e6104154827d (<class 'rdflib.graph.Graph'>)>"
      ]
     },
     "execution_count": 13,
     "metadata": {},
     "output_type": "execute_result"
    }
   ],
   "source": [
    "g = Graph()\n",
    "g.parse(path_to_onto, format='turtle')"
   ]
  },
  {
   "cell_type": "code",
   "execution_count": null,
   "metadata": {},
   "outputs": [],
   "source": [
    "getNamespace(g)"
   ]
  },
  {
   "cell_type": "code",
   "execution_count": null,
   "metadata": {},
   "outputs": [],
   "source": [
    "query = \"\"\"\n",
    "PREFIX rdfs: <http://www.w3.org/2000/01/rdf-schema#>\n",
    "\n",
    "\n",
    "\"\"\""
   ]
  }
 ],
 "metadata": {
  "kernelspec": {
   "display_name": "bert",
   "language": "python",
   "name": "python3"
  },
  "language_info": {
   "codemirror_mode": {
    "name": "ipython",
    "version": 3
   },
   "file_extension": ".py",
   "mimetype": "text/x-python",
   "name": "python",
   "nbconvert_exporter": "python",
   "pygments_lexer": "ipython3",
   "version": "3.12.9"
  }
 },
 "nbformat": 4,
 "nbformat_minor": 2
}
