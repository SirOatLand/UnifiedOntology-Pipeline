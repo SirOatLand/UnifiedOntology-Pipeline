{
 "cells": [
  {
   "cell_type": "code",
   "execution_count": null,
   "metadata": {},
   "outputs": [],
   "source": [
    "import os\n",
    "if os.path.isdir('../../UnifiedOntology-Pipeline'): os.chdir('../')"
   ]
  },
  {
   "cell_type": "code",
   "execution_count": null,
   "metadata": {},
   "outputs": [],
   "source": [
    "import import_ipynb\n",
    "from tool.extractClass import *\n",
    "from pipeline.connectIndividuals import getNamespace, clear_serialize"
   ]
  },
  {
   "cell_type": "code",
   "execution_count": null,
   "metadata": {},
   "outputs": [],
   "source": [
    "loginHuggingFace()"
   ]
  },
  {
   "cell_type": "code",
   "execution_count": null,
   "metadata": {},
   "outputs": [],
   "source": [
    "path_to_onto = \"./pipeline/3_mergeOutput/UnifiedOntology.ttl\"\n",
    "df = getOntoClasses(path_to_onto)"
   ]
  },
  {
   "cell_type": "code",
   "execution_count": null,
   "metadata": {},
   "outputs": [],
   "source": [
    "name_tokenizer = \"bert-base-uncased\"\n",
    "name_model = \"OhWayTee/bert-taxonomy\"\n",
    "name_pipeline = \"text-classification\""
   ]
  },
  {
   "cell_type": "code",
   "execution_count": null,
   "metadata": {},
   "outputs": [],
   "source": [
    "classifier = getClassifier(name_tokenizer, name_model, name_pipeline)"
   ]
  },
  {
   "cell_type": "code",
   "execution_count": null,
   "metadata": {},
   "outputs": [],
   "source": [
    "df = df[:10]"
   ]
  },
  {
   "cell_type": "code",
   "execution_count": null,
   "metadata": {},
   "outputs": [],
   "source": [
    "df_pred = getPredictions(classifier, df)"
   ]
  },
  {
   "cell_type": "code",
   "execution_count": null,
   "metadata": {},
   "outputs": [],
   "source": [
    "df_top = sortPredictions(df_pred)"
   ]
  },
  {
   "cell_type": "code",
   "execution_count": null,
   "metadata": {},
   "outputs": [],
   "source": [
    "df_top"
   ]
  },
  {
   "cell_type": "code",
   "execution_count": null,
   "metadata": {},
   "outputs": [],
   "source": [
    "df_superclass = df_top[df_top['label'] == \"LABEL_1\"] # classB is SUBCLASS of classA\n",
    "df_subclass = df_top[df_top['label'] == \"LABEL_2\"] # classA is SUBCLASS of classB"
   ]
  },
  {
   "cell_type": "code",
   "execution_count": null,
   "metadata": {},
   "outputs": [],
   "source": [
    "df_superclass"
   ]
  },
  {
   "cell_type": "code",
   "execution_count": null,
   "metadata": {},
   "outputs": [],
   "source": [
    "df_subclass"
   ]
  },
  {
   "cell_type": "code",
   "execution_count": null,
   "metadata": {},
   "outputs": [],
   "source": [
    "g = Graph()\n",
    "g.parse(path_to_onto, format='turtle')\n",
    "prefix, uri = getNamespace(g)\n",
    "print(prefix, uri)"
   ]
  },
  {
   "cell_type": "code",
   "execution_count": null,
   "metadata": {},
   "outputs": [],
   "source": [
    "for idx, row in df_superclass.iterrows():\n",
    "    print(str(row['classA']), str(row['classB']))"
   ]
  },
  {
   "cell_type": "code",
   "execution_count": null,
   "metadata": {},
   "outputs": [],
   "source": [
    "for idx, row in df_superclass.iterrows():\n",
    "    query = f\"\"\"\n",
    "    PREFIX rdfs: <http://www.w3.org/2000/01/rdf-schema#>\n",
    "    PREFIX {prefix}: <{uri}>\n",
    "    INSERT{{\n",
    "        ?subclass rdfs:subClassOf ?superclass .\n",
    "    }}\n",
    "    WHERE {{\n",
    "        ?subclass rdfs:label \"{row['classB']}\" .\n",
    "        ?superclass rdfs:label \"{row['classA']}\" .\n",
    "    }}\n",
    "    \"\"\"\n",
    "    g.update(query)"
   ]
  },
  {
   "cell_type": "code",
   "execution_count": null,
   "metadata": {},
   "outputs": [],
   "source": [
    "for idx, row in df_subclass.iterrows():\n",
    "    query = f\"\"\"\n",
    "    PREFIX rdfs: <http://www.w3.org/2000/01/rdf-schema#>\n",
    "    PREFIX {prefix}: <{uri}>\n",
    "    INSERT{{\n",
    "        ?subclass rdfs:subClassOf ?superclass .\n",
    "    }}\n",
    "    WHERE {{\n",
    "        ?subclass rdfs:label \"{row['classA']}\" .\n",
    "        ?superclass rdfs:label \"{row['classB']}\" .\n",
    "    }}\n",
    "    \"\"\"\n",
    "    g.update(query)"
   ]
  },
  {
   "cell_type": "code",
   "execution_count": null,
   "metadata": {},
   "outputs": [],
   "source": [
    "output_path = \"./refine/4_refineOutput/RefinedUnifiedOntology.ttl\"\n",
    "\n",
    "clear_serialize(g, output_path)"
   ]
  }
 ],
 "metadata": {
  "kernelspec": {
   "display_name": "bert",
   "language": "python",
   "name": "python3"
  },
  "language_info": {
   "codemirror_mode": {
    "name": "ipython",
    "version": 3
   },
   "file_extension": ".py",
   "mimetype": "text/x-python",
   "name": "python",
   "nbconvert_exporter": "python",
   "pygments_lexer": "ipython3",
   "version": "3.12.9"
  }
 },
 "nbformat": 4,
 "nbformat_minor": 2
}
